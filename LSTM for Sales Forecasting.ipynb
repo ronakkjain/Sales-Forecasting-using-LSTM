{
 "cells": [
  {
   "cell_type": "code",
   "execution_count": 26,
   "metadata": {},
   "outputs": [],
   "source": [
    "import warnings\n",
    "import itertools\n",
    "import numpy as np\n",
    "import matplotlib.pyplot as plt\n",
    "warnings.filterwarnings(\"ignore\")\n",
    "plt.style.use('fivethirtyeight')\n",
    "\n",
    "import pandas as pd\n",
    "pd.set_option('display.expand_frame_repr', False)\n",
    "pd.set_option('display.max_columns', 500)\n",
    "pd.set_option('display.width', 1000)\n",
    "\n",
    "import statsmodels.api as sm\n",
    "from statsmodels.graphics.tsaplots import plot_acf\n",
    "from statsmodels.graphics.tsaplots import plot_pacf\n",
    "from statsmodels.tsa.stattools import adfuller\n",
    "from statsmodels.tsa.seasonal import seasonal_decompose\n",
    "from statsmodels.tsa.ar_model import AR\n",
    "from statsmodels.tsa.arima_model import ARMA, ARIMA\n",
    "# from pyramid.arima import auto_arima\n",
    "from statsmodels.tsa.statespace.sarimax import SARIMAX\n",
    "from fbprophet import Prophet\n",
    "\n",
    "pd.plotting.register_matplotlib_converters()\n",
    "\n",
    "from math import sqrt\n",
    "import matplotlib\n",
    "matplotlib.rcParams['axes.labelsize'] = 14\n",
    "matplotlib.rcParams['xtick.labelsize'] = 12\n",
    "matplotlib.rcParams['ytick.labelsize'] = 12\n",
    "matplotlib.rcParams['text.color'] = 'k'\n",
    "matplotlib.rcParams['figure.figsize'] = 18, 8\n",
    "import seaborn as sns\n",
    "\n",
    "from random import random\n",
    "\n",
    "from sklearn.metrics import mean_squared_error, r2_score, mean_absolute_error, median_absolute_error, mean_squared_log_error"
   ]
  },
  {
   "cell_type": "code",
   "execution_count": 2,
   "metadata": {},
   "outputs": [],
   "source": [
    "df = pd.read_excel('E:/Demand_forecasting_assignment/tensku_forecast.xlsx',sheet_name='2528963',index_col=[0], parse_dates=[0])"
   ]
  },
  {
   "cell_type": "code",
   "execution_count": 4,
   "metadata": {},
   "outputs": [
    {
     "data": {
      "text/plain": [
       "Index(['Sale'], dtype='object')"
      ]
     },
     "execution_count": 4,
     "metadata": {},
     "output_type": "execute_result"
    }
   ],
   "source": [
    "df.columns"
   ]
  },
  {
   "cell_type": "code",
   "execution_count": 4,
   "metadata": {},
   "outputs": [],
   "source": [
    "# df['year'] = pd.to_datetime(df['year'], format='%Y-%m')\n",
    "# y = df.set_index('year')"
   ]
  },
  {
   "cell_type": "code",
   "execution_count": 5,
   "metadata": {},
   "outputs": [
    {
     "name": "stderr",
     "output_type": "stream",
     "text": [
      "C:\\Users\\RONAK JAIN\\Anaconda3\\lib\\site-packages\\sklearn\\utils\\validation.py:595: DataConversionWarning: Data with input dtype int64 was converted to float64 by MinMaxScaler.\n",
      "  warnings.warn(msg, DataConversionWarning)\n"
     ]
    }
   ],
   "source": [
    "from sklearn.preprocessing import StandardScaler,MinMaxScaler\n",
    "scaler = MinMaxScaler(feature_range=(0,1))\n",
    "df_val = df['Sale'].values\n",
    "df_val = df_val.reshape(-1, 1)\n",
    "df_val_scaled = scaler.fit_transform(df_val)\n",
    "df[\"scaled_y\"] = df_val_scaled"
   ]
  },
  {
   "cell_type": "code",
   "execution_count": 6,
   "metadata": {},
   "outputs": [
    {
     "data": {
      "text/html": [
       "<div>\n",
       "<style scoped>\n",
       "    .dataframe tbody tr th:only-of-type {\n",
       "        vertical-align: middle;\n",
       "    }\n",
       "\n",
       "    .dataframe tbody tr th {\n",
       "        vertical-align: top;\n",
       "    }\n",
       "\n",
       "    .dataframe thead th {\n",
       "        text-align: right;\n",
       "    }\n",
       "</style>\n",
       "<table border=\"1\" class=\"dataframe\">\n",
       "  <thead>\n",
       "    <tr style=\"text-align: right;\">\n",
       "      <th></th>\n",
       "      <th>Sale</th>\n",
       "      <th>scaled_y</th>\n",
       "    </tr>\n",
       "    <tr>\n",
       "      <th>Date</th>\n",
       "      <th></th>\n",
       "      <th></th>\n",
       "    </tr>\n",
       "  </thead>\n",
       "  <tbody>\n",
       "    <tr>\n",
       "      <th>2017-01-01</th>\n",
       "      <td>0</td>\n",
       "      <td>0.0</td>\n",
       "    </tr>\n",
       "    <tr>\n",
       "      <th>2017-01-08</th>\n",
       "      <td>0</td>\n",
       "      <td>0.0</td>\n",
       "    </tr>\n",
       "    <tr>\n",
       "      <th>2017-01-15</th>\n",
       "      <td>0</td>\n",
       "      <td>0.0</td>\n",
       "    </tr>\n",
       "    <tr>\n",
       "      <th>2017-01-22</th>\n",
       "      <td>0</td>\n",
       "      <td>0.0</td>\n",
       "    </tr>\n",
       "    <tr>\n",
       "      <th>2017-01-29</th>\n",
       "      <td>0</td>\n",
       "      <td>0.0</td>\n",
       "    </tr>\n",
       "  </tbody>\n",
       "</table>\n",
       "</div>"
      ],
      "text/plain": [
       "            Sale  scaled_y\n",
       "Date                      \n",
       "2017-01-01     0       0.0\n",
       "2017-01-08     0       0.0\n",
       "2017-01-15     0       0.0\n",
       "2017-01-22     0       0.0\n",
       "2017-01-29     0       0.0"
      ]
     },
     "execution_count": 6,
     "metadata": {},
     "output_type": "execute_result"
    }
   ],
   "source": [
    "df.head()"
   ]
  },
  {
   "cell_type": "code",
   "execution_count": 7,
   "metadata": {},
   "outputs": [],
   "source": [
    "for obs in range(1,13):\n",
    "    df[\"T_\" + str(obs)] = df.scaled_y.shift(obs)"
   ]
  },
  {
   "cell_type": "code",
   "execution_count": 8,
   "metadata": {},
   "outputs": [
    {
     "data": {
      "text/html": [
       "<div>\n",
       "<style scoped>\n",
       "    .dataframe tbody tr th:only-of-type {\n",
       "        vertical-align: middle;\n",
       "    }\n",
       "\n",
       "    .dataframe tbody tr th {\n",
       "        vertical-align: top;\n",
       "    }\n",
       "\n",
       "    .dataframe thead th {\n",
       "        text-align: right;\n",
       "    }\n",
       "</style>\n",
       "<table border=\"1\" class=\"dataframe\">\n",
       "  <thead>\n",
       "    <tr style=\"text-align: right;\">\n",
       "      <th></th>\n",
       "      <th>Sale</th>\n",
       "      <th>scaled_y</th>\n",
       "      <th>T_1</th>\n",
       "      <th>T_2</th>\n",
       "      <th>T_3</th>\n",
       "      <th>T_4</th>\n",
       "      <th>T_5</th>\n",
       "      <th>T_6</th>\n",
       "      <th>T_7</th>\n",
       "      <th>T_8</th>\n",
       "      <th>T_9</th>\n",
       "      <th>T_10</th>\n",
       "      <th>T_11</th>\n",
       "      <th>T_12</th>\n",
       "    </tr>\n",
       "    <tr>\n",
       "      <th>Date</th>\n",
       "      <th></th>\n",
       "      <th></th>\n",
       "      <th></th>\n",
       "      <th></th>\n",
       "      <th></th>\n",
       "      <th></th>\n",
       "      <th></th>\n",
       "      <th></th>\n",
       "      <th></th>\n",
       "      <th></th>\n",
       "      <th></th>\n",
       "      <th></th>\n",
       "      <th></th>\n",
       "      <th></th>\n",
       "    </tr>\n",
       "  </thead>\n",
       "  <tbody>\n",
       "    <tr>\n",
       "      <th>2017-01-01</th>\n",
       "      <td>0</td>\n",
       "      <td>0.000000</td>\n",
       "      <td>0.000000</td>\n",
       "      <td>0.000000</td>\n",
       "      <td>0.000000</td>\n",
       "      <td>0.000000</td>\n",
       "      <td>0.0</td>\n",
       "      <td>0.0</td>\n",
       "      <td>0.0</td>\n",
       "      <td>0.0</td>\n",
       "      <td>0.0</td>\n",
       "      <td>0.0</td>\n",
       "      <td>0.0</td>\n",
       "      <td>0.0</td>\n",
       "    </tr>\n",
       "    <tr>\n",
       "      <th>2017-01-08</th>\n",
       "      <td>0</td>\n",
       "      <td>0.000000</td>\n",
       "      <td>0.000000</td>\n",
       "      <td>0.000000</td>\n",
       "      <td>0.000000</td>\n",
       "      <td>0.000000</td>\n",
       "      <td>0.0</td>\n",
       "      <td>0.0</td>\n",
       "      <td>0.0</td>\n",
       "      <td>0.0</td>\n",
       "      <td>0.0</td>\n",
       "      <td>0.0</td>\n",
       "      <td>0.0</td>\n",
       "      <td>0.0</td>\n",
       "    </tr>\n",
       "    <tr>\n",
       "      <th>2017-01-15</th>\n",
       "      <td>0</td>\n",
       "      <td>0.000000</td>\n",
       "      <td>0.000000</td>\n",
       "      <td>0.000000</td>\n",
       "      <td>0.000000</td>\n",
       "      <td>0.000000</td>\n",
       "      <td>0.0</td>\n",
       "      <td>0.0</td>\n",
       "      <td>0.0</td>\n",
       "      <td>0.0</td>\n",
       "      <td>0.0</td>\n",
       "      <td>0.0</td>\n",
       "      <td>0.0</td>\n",
       "      <td>0.0</td>\n",
       "    </tr>\n",
       "    <tr>\n",
       "      <th>2017-01-22</th>\n",
       "      <td>0</td>\n",
       "      <td>0.000000</td>\n",
       "      <td>0.000000</td>\n",
       "      <td>0.000000</td>\n",
       "      <td>0.000000</td>\n",
       "      <td>0.000000</td>\n",
       "      <td>0.0</td>\n",
       "      <td>0.0</td>\n",
       "      <td>0.0</td>\n",
       "      <td>0.0</td>\n",
       "      <td>0.0</td>\n",
       "      <td>0.0</td>\n",
       "      <td>0.0</td>\n",
       "      <td>0.0</td>\n",
       "    </tr>\n",
       "    <tr>\n",
       "      <th>2017-01-29</th>\n",
       "      <td>0</td>\n",
       "      <td>0.000000</td>\n",
       "      <td>0.000000</td>\n",
       "      <td>0.000000</td>\n",
       "      <td>0.000000</td>\n",
       "      <td>0.000000</td>\n",
       "      <td>0.0</td>\n",
       "      <td>0.0</td>\n",
       "      <td>0.0</td>\n",
       "      <td>0.0</td>\n",
       "      <td>0.0</td>\n",
       "      <td>0.0</td>\n",
       "      <td>0.0</td>\n",
       "      <td>0.0</td>\n",
       "    </tr>\n",
       "    <tr>\n",
       "      <th>2017-02-05</th>\n",
       "      <td>3</td>\n",
       "      <td>0.000454</td>\n",
       "      <td>0.000000</td>\n",
       "      <td>0.000000</td>\n",
       "      <td>0.000000</td>\n",
       "      <td>0.000000</td>\n",
       "      <td>0.0</td>\n",
       "      <td>0.0</td>\n",
       "      <td>0.0</td>\n",
       "      <td>0.0</td>\n",
       "      <td>0.0</td>\n",
       "      <td>0.0</td>\n",
       "      <td>0.0</td>\n",
       "      <td>0.0</td>\n",
       "    </tr>\n",
       "    <tr>\n",
       "      <th>2017-02-12</th>\n",
       "      <td>0</td>\n",
       "      <td>0.000000</td>\n",
       "      <td>0.000454</td>\n",
       "      <td>0.000000</td>\n",
       "      <td>0.000000</td>\n",
       "      <td>0.000000</td>\n",
       "      <td>0.0</td>\n",
       "      <td>0.0</td>\n",
       "      <td>0.0</td>\n",
       "      <td>0.0</td>\n",
       "      <td>0.0</td>\n",
       "      <td>0.0</td>\n",
       "      <td>0.0</td>\n",
       "      <td>0.0</td>\n",
       "    </tr>\n",
       "    <tr>\n",
       "      <th>2017-02-19</th>\n",
       "      <td>0</td>\n",
       "      <td>0.000000</td>\n",
       "      <td>0.000000</td>\n",
       "      <td>0.000454</td>\n",
       "      <td>0.000000</td>\n",
       "      <td>0.000000</td>\n",
       "      <td>0.0</td>\n",
       "      <td>0.0</td>\n",
       "      <td>0.0</td>\n",
       "      <td>0.0</td>\n",
       "      <td>0.0</td>\n",
       "      <td>0.0</td>\n",
       "      <td>0.0</td>\n",
       "      <td>0.0</td>\n",
       "    </tr>\n",
       "    <tr>\n",
       "      <th>2017-02-26</th>\n",
       "      <td>0</td>\n",
       "      <td>0.000000</td>\n",
       "      <td>0.000000</td>\n",
       "      <td>0.000000</td>\n",
       "      <td>0.000454</td>\n",
       "      <td>0.000000</td>\n",
       "      <td>0.0</td>\n",
       "      <td>0.0</td>\n",
       "      <td>0.0</td>\n",
       "      <td>0.0</td>\n",
       "      <td>0.0</td>\n",
       "      <td>0.0</td>\n",
       "      <td>0.0</td>\n",
       "      <td>0.0</td>\n",
       "    </tr>\n",
       "    <tr>\n",
       "      <th>2017-03-05</th>\n",
       "      <td>0</td>\n",
       "      <td>0.000000</td>\n",
       "      <td>0.000000</td>\n",
       "      <td>0.000000</td>\n",
       "      <td>0.000000</td>\n",
       "      <td>0.000454</td>\n",
       "      <td>0.0</td>\n",
       "      <td>0.0</td>\n",
       "      <td>0.0</td>\n",
       "      <td>0.0</td>\n",
       "      <td>0.0</td>\n",
       "      <td>0.0</td>\n",
       "      <td>0.0</td>\n",
       "      <td>0.0</td>\n",
       "    </tr>\n",
       "  </tbody>\n",
       "</table>\n",
       "</div>"
      ],
      "text/plain": [
       "            Sale  scaled_y       T_1       T_2       T_3       T_4  T_5  T_6  T_7  T_8  T_9  T_10  T_11  T_12\n",
       "Date                                                                                                         \n",
       "2017-01-01     0  0.000000  0.000000  0.000000  0.000000  0.000000  0.0  0.0  0.0  0.0  0.0   0.0   0.0   0.0\n",
       "2017-01-08     0  0.000000  0.000000  0.000000  0.000000  0.000000  0.0  0.0  0.0  0.0  0.0   0.0   0.0   0.0\n",
       "2017-01-15     0  0.000000  0.000000  0.000000  0.000000  0.000000  0.0  0.0  0.0  0.0  0.0   0.0   0.0   0.0\n",
       "2017-01-22     0  0.000000  0.000000  0.000000  0.000000  0.000000  0.0  0.0  0.0  0.0  0.0   0.0   0.0   0.0\n",
       "2017-01-29     0  0.000000  0.000000  0.000000  0.000000  0.000000  0.0  0.0  0.0  0.0  0.0   0.0   0.0   0.0\n",
       "2017-02-05     3  0.000454  0.000000  0.000000  0.000000  0.000000  0.0  0.0  0.0  0.0  0.0   0.0   0.0   0.0\n",
       "2017-02-12     0  0.000000  0.000454  0.000000  0.000000  0.000000  0.0  0.0  0.0  0.0  0.0   0.0   0.0   0.0\n",
       "2017-02-19     0  0.000000  0.000000  0.000454  0.000000  0.000000  0.0  0.0  0.0  0.0  0.0   0.0   0.0   0.0\n",
       "2017-02-26     0  0.000000  0.000000  0.000000  0.000454  0.000000  0.0  0.0  0.0  0.0  0.0   0.0   0.0   0.0\n",
       "2017-03-05     0  0.000000  0.000000  0.000000  0.000000  0.000454  0.0  0.0  0.0  0.0  0.0   0.0   0.0   0.0"
      ]
     },
     "execution_count": 8,
     "metadata": {},
     "output_type": "execute_result"
    }
   ],
   "source": [
    "df.fillna(0.00,inplace=True)\n",
    "df.head(10)"
   ]
  },
  {
   "cell_type": "code",
   "execution_count": 9,
   "metadata": {},
   "outputs": [],
   "source": [
    "train_data = df[:int(0.6*df.shape[0])]\n",
    "val_data = df[int(0.6*df.shape[0]):int(0.8*df.shape[0])]\n",
    "test_data = df[int(0.8*df.shape[0]):]"
   ]
  },
  {
   "cell_type": "code",
   "execution_count": 10,
   "metadata": {},
   "outputs": [
    {
     "name": "stdout",
     "output_type": "stream",
     "text": [
      "(93, 14) (31, 14) (32, 14)\n"
     ]
    }
   ],
   "source": [
    "print(train_data.shape, val_data.shape, test_data.shape)"
   ]
  },
  {
   "cell_type": "code",
   "execution_count": 13,
   "metadata": {},
   "outputs": [],
   "source": [
    "# x_train = train_data.drop([\"Sale\" ,\"scaled_y\"], axis = 1)\n",
    "y_train = train_data[\"scaled_y\"]\n",
    "x_val = val_data.drop([\"Sale\",\"scaled_y\"] , axis = 1)\n",
    "y_val = val_data[\"scaled_y\"]\n",
    "x_test = test_data.drop([\"Sale\",\"scaled_y\"], axis = 1)\n",
    "y_test = test_data[\"scaled_y\"]\n",
    "\n",
    "x_full = df.drop([\"Sale\",\"scaled_y\"], axis = 1)\n",
    "y_full = df[\"Sale\"]"
   ]
  },
  {
   "cell_type": "code",
   "execution_count": 14,
   "metadata": {},
   "outputs": [
    {
     "name": "stdout",
     "output_type": "stream",
     "text": [
      "(93, 12) (31, 14) (32, 14)\n"
     ]
    }
   ],
   "source": [
    "print(x_train.shape, val_data.shape, test_data.shape)"
   ]
  },
  {
   "cell_type": "code",
   "execution_count": 27,
   "metadata": {},
   "outputs": [
    {
     "data": {
      "text/plain": [
       "'\\nfrom sklearn.preprocessing import StandardScaler,MinMaxScaler\\nscaler = StandardScaler()\\n\\nx_train_scaled = scaler.fit_transform(x_train)\\nx_test_scaled = scaler.fit_transform(x_test)\\nx_valid_scaled = scaler.fit_transform(x_val)\\n\\nx_t_reshaped = x_train_scaled.reshape((x_train_scaled.shape[0], 1, x_train_scaled.shape[1]))\\nx_val_reshaped = x_valid_scaled.reshape((x_valid_scaled.shape[0], 1, x_valid_scaled.shape[1]))\\n'"
      ]
     },
     "execution_count": 27,
     "metadata": {},
     "output_type": "execute_result"
    }
   ],
   "source": [
    "\"\"\"\n",
    "from sklearn.preprocessing import StandardScaler,MinMaxScaler\n",
    "scaler = StandardScaler()\n",
    "\n",
    "x_train_scaled = scaler.fit_transform(x_train)\n",
    "x_test_scaled = scaler.fit_transform(x_test)\n",
    "x_valid_scaled = scaler.fit_transform(x_val)\n",
    "\n",
    "x_t_reshaped = x_train_scaled.reshape((x_train_scaled.shape[0], 1, x_train_scaled.shape[1]))\n",
    "x_val_reshaped = x_valid_scaled.reshape((x_valid_scaled.shape[0], 1, x_valid_scaled.shape[1]))\n",
    "\"\"\"\n"
   ]
  },
  {
   "cell_type": "code",
   "execution_count": 15,
   "metadata": {},
   "outputs": [],
   "source": [
    "\n",
    "'''\n",
    "x_train_scaled = scaler.fit_transform(x_train)\n",
    "x_test_scaled = scaler.fit_transform(x_test)\n",
    "x_valid_scaled = scaler.fit_transform(x_val)\n",
    "'''\n",
    "\n",
    "x_train = x_train.values\n",
    "x_val = x_val.values\n",
    "x_t_reshaped = x_train.reshape((x_train.shape[0], 1, x_train.shape[1]))\n",
    "x_val_reshaped = x_val.reshape((x_val.shape[0], 1, x_val.shape[1]))"
   ]
  },
  {
   "cell_type": "code",
   "execution_count": null,
   "metadata": {},
   "outputs": [],
   "source": []
  },
  {
   "cell_type": "code",
   "execution_count": 16,
   "metadata": {},
   "outputs": [
    {
     "name": "stderr",
     "output_type": "stream",
     "text": [
      "Using TensorFlow backend.\n"
     ]
    }
   ],
   "source": [
    "from keras.models import Sequential\n",
    "from keras.layers import Dense, Dropout\n",
    "from keras.layers import LSTM"
   ]
  },
  {
   "cell_type": "code",
   "execution_count": 17,
   "metadata": {},
   "outputs": [
    {
     "name": "stdout",
     "output_type": "stream",
     "text": [
      "WARNING:tensorflow:From C:\\Users\\RONAK JAIN\\Anaconda3\\lib\\site-packages\\tensorflow_core\\python\\ops\\resource_variable_ops.py:1630: calling BaseResourceVariable.__init__ (from tensorflow.python.ops.resource_variable_ops) with constraint is deprecated and will be removed in a future version.\n",
      "Instructions for updating:\n",
      "If using Keras pass *_constraint arguments to layers.\n"
     ]
    }
   ],
   "source": [
    "model_k = Sequential()\n",
    "model_k.add(LSTM(100, input_shape=(1,12)))\n",
    "model_k.add(Dropout(0.1))\n",
    "model_k.add(Dense(1))\n",
    "model_k.compile(loss='mean_squared_error', optimizer='adam')"
   ]
  },
  {
   "cell_type": "code",
   "execution_count": 18,
   "metadata": {},
   "outputs": [
    {
     "name": "stdout",
     "output_type": "stream",
     "text": [
      "WARNING:tensorflow:From C:\\Users\\RONAK JAIN\\Anaconda3\\lib\\site-packages\\keras\\backend\\tensorflow_backend.py:422: The name tf.global_variables is deprecated. Please use tf.compat.v1.global_variables instead.\n",
      "\n",
      "Train on 93 samples, validate on 31 samples\n",
      "Epoch 1/100\n",
      "93/93 [==============================] - 2s 23ms/step - loss: 0.1485 - val_loss: 0.1744\n",
      "Epoch 2/100\n",
      "93/93 [==============================] - 0s 592us/step - loss: 0.0656 - val_loss: 0.0905\n",
      "Epoch 3/100\n",
      "93/93 [==============================] - 0s 558us/step - loss: 0.0324 - val_loss: 0.0797\n",
      "Epoch 4/100\n",
      "93/93 [==============================] - 0s 502us/step - loss: 0.0355 - val_loss: 0.0814\n",
      "Epoch 5/100\n",
      "93/93 [==============================] - 0s 544us/step - loss: 0.0336 - val_loss: 0.0767\n",
      "Epoch 6/100\n",
      "93/93 [==============================] - 0s 473us/step - loss: 0.0321 - val_loss: 0.0751\n",
      "Epoch 7/100\n",
      "93/93 [==============================] - 0s 469us/step - loss: 0.0294 - val_loss: 0.0751\n",
      "Epoch 8/100\n",
      "93/93 [==============================] - 0s 511us/step - loss: 0.0301 - val_loss: 0.0728\n",
      "Epoch 9/100\n",
      "93/93 [==============================] - 0s 528us/step - loss: 0.0295 - val_loss: 0.0712\n",
      "Epoch 10/100\n",
      "93/93 [==============================] - 0s 480us/step - loss: 0.0294 - val_loss: 0.0703\n",
      "Epoch 11/100\n",
      "93/93 [==============================] - 0s 452us/step - loss: 0.0281 - val_loss: 0.0694\n",
      "Epoch 12/100\n",
      "93/93 [==============================] - 0s 497us/step - loss: 0.0277 - val_loss: 0.0683\n",
      "Epoch 13/100\n",
      "93/93 [==============================] - 0s 464us/step - loss: 0.0281 - val_loss: 0.0674\n",
      "Epoch 14/100\n",
      "93/93 [==============================] - 0s 459us/step - loss: 0.0270 - val_loss: 0.0666\n",
      "Epoch 15/100\n",
      "93/93 [==============================] - 0s 680us/step - loss: 0.0272 - val_loss: 0.0664\n",
      "Epoch 16/100\n",
      "93/93 [==============================] - 0s 432us/step - loss: 0.0272 - val_loss: 0.0653\n",
      "Epoch 17/100\n",
      "93/93 [==============================] - 0s 458us/step - loss: 0.0256 - val_loss: 0.0647\n",
      "Epoch 18/100\n",
      "93/93 [==============================] - 0s 440us/step - loss: 0.0254 - val_loss: 0.0642\n",
      "Epoch 19/100\n",
      "93/93 [==============================] - 0s 416us/step - loss: 0.0257 - val_loss: 0.0637\n",
      "Epoch 20/100\n",
      "93/93 [==============================] - 0s 388us/step - loss: 0.0246 - val_loss: 0.0633\n",
      "Epoch 21/100\n",
      "93/93 [==============================] - 0s 358us/step - loss: 0.0251 - val_loss: 0.0628\n",
      "Epoch 22/100\n",
      "93/93 [==============================] - 0s 374us/step - loss: 0.0256 - val_loss: 0.0628\n",
      "Epoch 23/100\n",
      "93/93 [==============================] - 0s 410us/step - loss: 0.0240 - val_loss: 0.0625\n",
      "Epoch 24/100\n",
      "93/93 [==============================] - 0s 454us/step - loss: 0.0244 - val_loss: 0.0626\n",
      "Epoch 25/100\n",
      "93/93 [==============================] - 0s 476us/step - loss: 0.0240 - val_loss: 0.0625\n",
      "Epoch 26/100\n",
      "93/93 [==============================] - 0s 429us/step - loss: 0.0222 - val_loss: 0.0622\n",
      "Epoch 27/100\n",
      "93/93 [==============================] - 0s 392us/step - loss: 0.0231 - val_loss: 0.0623\n",
      "Epoch 28/100\n",
      "93/93 [==============================] - 0s 402us/step - loss: 0.0230 - val_loss: 0.0625\n",
      "Epoch 29/100\n",
      "93/93 [==============================] - 0s 379us/step - loss: 0.0221 - val_loss: 0.0630\n",
      "Epoch 30/100\n",
      "93/93 [==============================] - 0s 446us/step - loss: 0.0227 - val_loss: 0.0625\n",
      "Epoch 31/100\n",
      "93/93 [==============================] - 0s 472us/step - loss: 0.0227 - val_loss: 0.0626\n",
      "Epoch 32/100\n",
      "93/93 [==============================] - 0s 477us/step - loss: 0.0225 - val_loss: 0.0626\n",
      "Epoch 33/100\n",
      "93/93 [==============================] - 0s 398us/step - loss: 0.0220 - val_loss: 0.0628\n",
      "Epoch 34/100\n",
      "93/93 [==============================] - 0s 391us/step - loss: 0.0228 - val_loss: 0.0631\n",
      "Epoch 35/100\n",
      "93/93 [==============================] - 0s 338us/step - loss: 0.0222 - val_loss: 0.0629\n",
      "Epoch 36/100\n",
      "93/93 [==============================] - 0s 347us/step - loss: 0.0210 - val_loss: 0.0630\n",
      "Epoch 37/100\n",
      "93/93 [==============================] - 0s 410us/step - loss: 0.0218 - val_loss: 0.0633\n",
      "Epoch 38/100\n",
      "93/93 [==============================] - 0s 296us/step - loss: 0.0217 - val_loss: 0.0631\n",
      "Epoch 39/100\n",
      "93/93 [==============================] - 0s 358us/step - loss: 0.0218 - val_loss: 0.0635\n",
      "Epoch 40/100\n",
      "93/93 [==============================] - 0s 378us/step - loss: 0.0212 - val_loss: 0.0630\n",
      "Epoch 41/100\n",
      "93/93 [==============================] - 0s 365us/step - loss: 0.0208 - val_loss: 0.0630\n",
      "Epoch 42/100\n",
      "93/93 [==============================] - 0s 482us/step - loss: 0.0221 - val_loss: 0.0638\n",
      "Epoch 43/100\n",
      "93/93 [==============================] - 0s 471us/step - loss: 0.0217 - val_loss: 0.0628\n",
      "Epoch 44/100\n",
      "93/93 [==============================] - 0s 464us/step - loss: 0.0218 - val_loss: 0.0627\n",
      "Epoch 45/100\n",
      "93/93 [==============================] - 0s 445us/step - loss: 0.0214 - val_loss: 0.0632\n",
      "Epoch 46/100\n",
      "93/93 [==============================] - 0s 483us/step - loss: 0.0210 - val_loss: 0.0629\n",
      "Epoch 47/100\n",
      "93/93 [==============================] - 0s 395us/step - loss: 0.0212 - val_loss: 0.0626\n",
      "Epoch 48/100\n",
      "93/93 [==============================] - 0s 500us/step - loss: 0.0203 - val_loss: 0.0628\n",
      "Epoch 49/100\n",
      "93/93 [==============================] - 0s 392us/step - loss: 0.0209 - val_loss: 0.0626\n",
      "Epoch 50/100\n",
      "93/93 [==============================] - 0s 342us/step - loss: 0.0215 - val_loss: 0.0628\n",
      "Epoch 51/100\n",
      "93/93 [==============================] - 0s 396us/step - loss: 0.0223 - val_loss: 0.0625\n",
      "Epoch 52/100\n",
      "93/93 [==============================] - 0s 375us/step - loss: 0.0207 - val_loss: 0.0631\n",
      "Epoch 53/100\n",
      "93/93 [==============================] - 0s 471us/step - loss: 0.0205 - val_loss: 0.0623\n",
      "Epoch 54/100\n",
      "93/93 [==============================] - 0s 413us/step - loss: 0.0206 - val_loss: 0.0620\n",
      "Epoch 55/100\n",
      "93/93 [==============================] - 0s 375us/step - loss: 0.0205 - val_loss: 0.0621\n",
      "Epoch 56/100\n",
      "93/93 [==============================] - 0s 348us/step - loss: 0.0203 - val_loss: 0.0624\n",
      "Epoch 57/100\n",
      "93/93 [==============================] - 0s 363us/step - loss: 0.0197 - val_loss: 0.0624\n",
      "Epoch 58/100\n",
      "93/93 [==============================] - 0s 376us/step - loss: 0.0201 - val_loss: 0.0625\n",
      "Epoch 59/100\n",
      "93/93 [==============================] - 0s 346us/step - loss: 0.0209 - val_loss: 0.0622\n",
      "Epoch 60/100\n",
      "93/93 [==============================] - 0s 406us/step - loss: 0.0205 - val_loss: 0.0621\n",
      "Epoch 61/100\n",
      "93/93 [==============================] - 0s 343us/step - loss: 0.0208 - val_loss: 0.0619\n",
      "Epoch 62/100\n",
      "93/93 [==============================] - 0s 363us/step - loss: 0.0204 - val_loss: 0.0618\n",
      "Epoch 63/100\n",
      "93/93 [==============================] - 0s 346us/step - loss: 0.0201 - val_loss: 0.0614\n",
      "Epoch 64/100\n",
      "93/93 [==============================] - 0s 351us/step - loss: 0.0210 - val_loss: 0.0612\n",
      "Epoch 65/100\n",
      "93/93 [==============================] - 0s 431us/step - loss: 0.0216 - val_loss: 0.0607\n",
      "Epoch 66/100\n",
      "93/93 [==============================] - 0s 286us/step - loss: 0.0199 - val_loss: 0.0620\n",
      "Epoch 67/100\n",
      "93/93 [==============================] - 0s 351us/step - loss: 0.0203 - val_loss: 0.0610\n",
      "Epoch 68/100\n",
      "93/93 [==============================] - 0s 317us/step - loss: 0.0210 - val_loss: 0.0605\n",
      "Epoch 69/100\n",
      "93/93 [==============================] - 0s 369us/step - loss: 0.0195 - val_loss: 0.0609\n",
      "Epoch 70/100\n",
      "93/93 [==============================] - 0s 430us/step - loss: 0.0194 - val_loss: 0.0602\n",
      "Epoch 71/100\n",
      "93/93 [==============================] - 0s 292us/step - loss: 0.0200 - val_loss: 0.0603\n",
      "Epoch 72/100\n",
      "93/93 [==============================] - 0s 331us/step - loss: 0.0202 - val_loss: 0.0603\n",
      "Epoch 73/100\n",
      "93/93 [==============================] - 0s 342us/step - loss: 0.0207 - val_loss: 0.0601\n",
      "Epoch 74/100\n",
      "93/93 [==============================] - 0s 407us/step - loss: 0.0205 - val_loss: 0.0597\n",
      "Epoch 75/100\n",
      "93/93 [==============================] - 0s 323us/step - loss: 0.0193 - val_loss: 0.0601\n",
      "Epoch 76/100\n",
      "93/93 [==============================] - 0s 321us/step - loss: 0.0197 - val_loss: 0.0604\n",
      "Epoch 77/100\n",
      "93/93 [==============================] - 0s 370us/step - loss: 0.0197 - val_loss: 0.0598\n",
      "Epoch 78/100\n",
      "93/93 [==============================] - 0s 363us/step - loss: 0.0202 - val_loss: 0.0600\n"
     ]
    },
    {
     "name": "stdout",
     "output_type": "stream",
     "text": [
      "Epoch 79/100\n",
      "93/93 [==============================] - 0s 346us/step - loss: 0.0201 - val_loss: 0.0599\n",
      "Epoch 80/100\n",
      "93/93 [==============================] - 0s 338us/step - loss: 0.0205 - val_loss: 0.0601\n",
      "Epoch 81/100\n",
      "93/93 [==============================] - 0s 328us/step - loss: 0.0203 - val_loss: 0.0596\n",
      "Epoch 82/100\n",
      "93/93 [==============================] - 0s 366us/step - loss: 0.0205 - val_loss: 0.0595\n",
      "Epoch 83/100\n",
      "93/93 [==============================] - 0s 357us/step - loss: 0.0203 - val_loss: 0.0594\n",
      "Epoch 84/100\n",
      "93/93 [==============================] - 0s 429us/step - loss: 0.0192 - val_loss: 0.0595\n",
      "Epoch 85/100\n",
      "93/93 [==============================] - 0s 383us/step - loss: 0.0195 - val_loss: 0.0593\n",
      "Epoch 86/100\n",
      "93/93 [==============================] - 0s 433us/step - loss: 0.0200 - val_loss: 0.0586\n",
      "Epoch 87/100\n",
      "93/93 [==============================] - 0s 439us/step - loss: 0.0190 - val_loss: 0.0585\n",
      "Epoch 88/100\n",
      "93/93 [==============================] - 0s 350us/step - loss: 0.0195 - val_loss: 0.0585\n",
      "Epoch 89/100\n",
      "93/93 [==============================] - 0s 353us/step - loss: 0.0199 - val_loss: 0.0587\n",
      "Epoch 90/100\n",
      "93/93 [==============================] - 0s 376us/step - loss: 0.0203 - val_loss: 0.0584\n",
      "Epoch 91/100\n",
      "93/93 [==============================] - 0s 1ms/step - loss: 0.0190 - val_loss: 0.0583\n",
      "Epoch 92/100\n",
      "93/93 [==============================] - 0s 902us/step - loss: 0.0196 - val_loss: 0.0584\n",
      "Epoch 93/100\n",
      "93/93 [==============================] - 0s 787us/step - loss: 0.0204 - val_loss: 0.0583\n",
      "Epoch 94/100\n",
      "93/93 [==============================] - 0s 624us/step - loss: 0.0190 - val_loss: 0.0583\n",
      "Epoch 95/100\n",
      "93/93 [==============================] - 0s 590us/step - loss: 0.0195 - val_loss: 0.0579\n",
      "Epoch 96/100\n",
      "93/93 [==============================] - 0s 324us/step - loss: 0.0206 - val_loss: 0.0593\n",
      "Epoch 97/100\n",
      "93/93 [==============================] - 0s 478us/step - loss: 0.0206 - val_loss: 0.0586\n",
      "Epoch 98/100\n",
      "93/93 [==============================] - 0s 352us/step - loss: 0.0189 - val_loss: 0.0586\n",
      "Epoch 99/100\n",
      "93/93 [==============================] - 0s 345us/step - loss: 0.0196 - val_loss: 0.0582\n",
      "Epoch 100/100\n",
      "93/93 [==============================] - 0s 395us/step - loss: 0.0201 - val_loss: 0.0580\n"
     ]
    }
   ],
   "source": [
    "history = model_k.fit(x_t_reshaped, y_train, validation_data=(x_val_reshaped, y_val),epochs=100, batch_size=12, verbose=1)"
   ]
  },
  {
   "cell_type": "code",
   "execution_count": 19,
   "metadata": {},
   "outputs": [],
   "source": [
    "x_test = x_test.values\n",
    "x_te_reshaped = x_test.reshape((x_test.shape[0], 1, x_test.shape[1]))\n",
    "\n",
    "x_full_arr = x_full.values\n",
    "x_full_reshaped = x_full_arr.reshape((x_full.shape[0], 1, x_full.shape[1]))"
   ]
  },
  {
   "cell_type": "code",
   "execution_count": 20,
   "metadata": {},
   "outputs": [],
   "source": [
    "res_tr = model_k.predict(x_t_reshaped)\n",
    "res_val = model_k.predict(x_val_reshaped)\n",
    "res_test = model_k.predict(x_te_reshaped)\n",
    "\n",
    "res_full = model_k.predict(x_full_reshaped)"
   ]
  },
  {
   "cell_type": "code",
   "execution_count": 21,
   "metadata": {},
   "outputs": [
    {
     "name": "stdout",
     "output_type": "stream",
     "text": [
      "(93, 1) (31, 1) (32, 1)\n"
     ]
    }
   ],
   "source": [
    "print(res_tr.shape, res_val.shape,res_test.shape)"
   ]
  },
  {
   "cell_type": "code",
   "execution_count": 22,
   "metadata": {},
   "outputs": [],
   "source": [
    "y_pred_tr = scaler.inverse_transform(res_tr)\n",
    "y_pred_val = scaler.inverse_transform(res_val)\n",
    "y_pred_test = scaler.inverse_transform(res_test)\n",
    "y_act = df[\"Sale\"].values\n",
    "\n",
    "y_full= scaler.inverse_transform(res_full)"
   ]
  },
  {
   "cell_type": "code",
   "execution_count": 23,
   "metadata": {},
   "outputs": [],
   "source": [
    "look_back = 12"
   ]
  },
  {
   "cell_type": "code",
   "execution_count": 24,
   "metadata": {},
   "outputs": [],
   "source": [
    "\n",
    "# shift train predictions for plotting\n",
    "all_y = df[\"scaled_y\"].values\n",
    "\n",
    "dataset= all_y.reshape(-1, 1)\n",
    "trainPredictPlot = np.empty_like(dataset)\n",
    "trainPredictPlot[:, :] = np.nan\n",
    "#print(trainPredictPlot)\n",
    "trainPredictPlot[:len(y_pred_tr), :] = y_pred_tr\n",
    "\n",
    "valPredictPlot = np.empty_like(dataset)\n",
    "valPredictPlot[:, :] = np.nan\n",
    "#print(trainPredictPlot)\n",
    "valPredictPlot[len(y_pred_tr) : len(y_pred_tr) + len(y_pred_val), :] = y_pred_val\n",
    "\n",
    "testPredictPlot = np.empty_like(dataset)\n",
    "testPredictPlot[:, :] = np.nan\n",
    "#print(trainPredictPlot)\n",
    "testPredictPlot[len(y_pred_tr) + len(y_pred_val):, :] = y_pred_test"
   ]
  },
  {
   "cell_type": "code",
   "execution_count": 27,
   "metadata": {},
   "outputs": [
    {
     "data": {
      "text/plain": [
       "[<matplotlib.lines.Line2D at 0x1ff0c409eb8>]"
      ]
     },
     "execution_count": 27,
     "metadata": {},
     "output_type": "execute_result"
    },
    {
     "data": {
      "image/png": "[encoded data removed]",
      "text/plain": [
       "<Figure size 1296x576 with 1 Axes>"
      ]
     },
     "metadata": {},
     "output_type": "display_data"
    }
   ],
   "source": [
    "matplotlib.rcParams['figure.figsize'] = 18, 8\n",
    "plt.plot(y_act)\n",
    "plt.plot(valPredictPlot)\n",
    "plt.plot(testPredictPlot)\n"
   ]
  },
  {
   "cell_type": "code",
   "execution_count": 28,
   "metadata": {},
   "outputs": [
    {
     "name": "stdout",
     "output_type": "stream",
     "text": [
      "62.74036066645363\n"
     ]
    }
   ],
   "source": [
    "#R^2\n",
    "\n",
    "from sklearn.metrics import r2_score\n",
    "print(r2_score(y_act, y_full)*100)"
   ]
  },
  {
   "cell_type": "code",
   "execution_count": 29,
   "metadata": {},
   "outputs": [],
   "source": [
    "np.savetxt(\"LSTM_RESULT.csv\", y_act)"
   ]
  },
  {
   "cell_type": "code",
   "execution_count": 30,
   "metadata": {},
   "outputs": [
    {
     "name": "stdout",
     "output_type": "stream",
     "text": [
      "[   0    0    0    0    0    3    0    0    0    0    0    0    0    0\n",
      "    0    0    0  831 3877 2487    4 2584 3277 3427 3664 4196 4210  175\n",
      " 3175 4831 4168 3480 4267 4145 4624 5039 4800 4658 4764 4927 3859 3441\n",
      " 4036 5232 5092 4921 5285 5399 4765 5626 5062 4625 4256 4222 4145 4104\n",
      " 3314 3142 3297  186    0 2737 4154 2355 1717 2255 2038 2474 1772 1865\n",
      "  990 2486 2253 2400 2415 1876 1861 1933 2002 1936 1175  597 2659 2049\n",
      " 2442 2197 3373 2980  267 1020 3751 2396 4271 4907 3974 4393 3356  720\n",
      "   29    0    2 1568 4104 3841 3023 3823 3729 2455 6606 5554 5800 6487\n",
      " 6319 4733 4405 4054 4211 2831 3649 3837 3515 4219 2696 4353 3843 4039\n",
      " 3976  300 1912 4105 4274 3307 3662 3133 4739 3883 3067  157    4    7\n",
      "  133   72    0    0 3032    0    0    0    0    0    0    0    0    0\n",
      "    0    0]\n"
     ]
    }
   ],
   "source": [
    "print(y_act)"
   ]
  },
  {
   "cell_type": "code",
   "execution_count": 31,
   "metadata": {},
   "outputs": [],
   "source": [
    "np.savetxt(\"LSTM_RESULT_my.csv\", y_full)"
   ]
  },
  {
   "cell_type": "code",
   "execution_count": 32,
   "metadata": {},
   "outputs": [
    {
     "name": "stdout",
     "output_type": "stream",
     "text": [
      "49.68265007822457\n"
     ]
    }
   ],
   "source": [
    "print(r2_score(y_act[int(0.77*len(y_act)):] , y_full[int(0.77*len(y_full)): ])*100)"
   ]
  },
  {
   "cell_type": "code",
   "execution_count": 33,
   "metadata": {},
   "outputs": [
    {
     "data": {
      "text/plain": [
       "array([2831, 3649, 3837, 3515, 4219, 2696, 4353, 3843, 4039, 3976,  300,\n",
       "       1912, 4105, 4274, 3307, 3662, 3133, 4739, 3883, 3067,  157,    4,\n",
       "          7,  133,   72,    0,    0, 3032,    0,    0,    0,    0,    0,\n",
       "          0,    0,    0,    0,    0,    0], dtype=int64)"
      ]
     },
     "execution_count": 33,
     "metadata": {},
     "output_type": "execute_result"
    }
   ],
   "source": [
    "y_act[int(0.75*len(y_act)):]"
   ]
  },
  {
   "cell_type": "code",
   "execution_count": null,
   "metadata": {},
   "outputs": [],
   "source": []
  }
 ],
 "metadata": {
  "kernelspec": {
   "display_name": "Python 3",
   "language": "python",
   "name": "python3"
  },
  "language_info": {
   "codemirror_mode": {
    "name": "ipython",
    "version": 3
   },
   "file_extension": ".py",
   "mimetype": "text/x-python",
   "name": "python",
   "nbconvert_exporter": "python",
   "pygments_lexer": "ipython3",
   "version": "3.7.3"
  }
 },
 "nbformat": 4,
 "nbformat_minor": 2
}
